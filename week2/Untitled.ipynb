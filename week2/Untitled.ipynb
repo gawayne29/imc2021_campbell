{
 "cells": [
  {
   "cell_type": "code",
   "execution_count": 8,
   "metadata": {},
   "outputs": [],
   "source": [
    "def convert_days_to_seconds(days):\n",
    "    hours = days * 24\n",
    "    minutes = hours * 60\n",
    "    seconds = minutes * 60\n",
    "    return seconds"
   ]
  },
  {
   "cell_type": "code",
   "execution_count": 9,
   "metadata": {},
   "outputs": [
    {
     "data": {
      "text/plain": [
       "604800"
      ]
     },
     "execution_count": 9,
     "metadata": {},
     "output_type": "execute_result"
    }
   ],
   "source": [
    "convert_days_to_seconds(7)"
   ]
  },
  {
   "cell_type": "code",
   "execution_count": 13,
   "metadata": {},
   "outputs": [
    {
     "name": "stdout",
     "output_type": "stream",
     "text": [
      "Im\n",
      "Im\n",
      "Dope\n",
      "Im\n",
      "Im\n",
      "Dope\n",
      "Im\n",
      "Im\n",
      "Dope\n"
     ]
    }
   ],
   "source": [
    "for horay_counter in range(1, 4):\n",
    "    for hip_counter in range(1, 3):\n",
    "        print('Im')\n",
    "    print('Dope')"
   ]
  },
  {
   "cell_type": "code",
   "execution_count": null,
   "metadata": {},
   "outputs": [],
   "source": [
    "def plotAvmSamp(filename,samplingRate):\n",
    "    sig , sr = librosa.load(filename,mono=True,sr=samplingRate)\n",
    "    time=np.arange(0,sig.shape[0])/sr\n",
    "    plt.plot(time,sig)\n",
    "    excursion=max(abs(sig))\n",
    "    sigNew = sig / excursion\n",
    "    plt.plot(time,sigNew)\n",
    "    plt.xlabel(xlabel)\n",
    "    plt.ylabel(ylabel)"
   ]
  }
 ],
 "metadata": {
  "kernelspec": {
   "display_name": "Python 3",
   "language": "python",
   "name": "python3"
  },
  "language_info": {
   "codemirror_mode": {
    "name": "ipython",
    "version": 3
   },
   "file_extension": ".py",
   "mimetype": "text/x-python",
   "name": "python",
   "nbconvert_exporter": "python",
   "pygments_lexer": "ipython3",
   "version": "3.8.5"
  }
 },
 "nbformat": 4,
 "nbformat_minor": 4
}
