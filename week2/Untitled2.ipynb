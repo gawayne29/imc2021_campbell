{
 "cells": [
  {
   "cell_type": "code",
   "execution_count": 1,
   "metadata": {},
   "outputs": [],
   "source": [
    "import numpy as np\n",
    "import matplotlib.pylab as plt\n",
    "import librosa.display\n",
    "import IPython.display\n",
    "import librosa"
   ]
  },
  {
   "cell_type": "code",
   "execution_count": 2,
   "metadata": {},
   "outputs": [],
   "source": [
    "def plotAudio3(sig,sampleRate,title):\n",
    "    \n",
    "    # this version expects the audio file to have already been opened by librosa\n",
    "    \n",
    "    # Adjust the x-axis to represent time\n",
    "    time=np.arange(0,sig.shape[0])/sr\n",
    "    \n",
    "    # Scale the y-axis to represent amplitude from -1 to 1\n",
    "    excursion=max(abs(sig))\n",
    "    sigNew = sig / excursion\n",
    "    \n",
    "    # Label the x and y axes with variables\n",
    "    xlabel = 'Time (seconds)'\n",
    "    ylabel = 'Amplitude'\n",
    "\n",
    "    # Plot the signal using the x and y axis variables    \n",
    "    plt.plot(time,sigNew)\n",
    "    plt.xlabel(xlabel)\n",
    "    plt.ylabel(ylabel)\n",
    "    plt.title(title)\n",
    "    plt.show()"
   ]
  },
  {
   "cell_type": "code",
   "execution_count": 3,
   "metadata": {},
   "outputs": [],
   "source": [
    "def subplots(plotPos,title,data,time,color,ylabel,xlabel):\n",
    "\n",
    "    #plot the inputted data into the subplot specified in the list plotPos\n",
    "    plt.subplot(plotPos[0],plotPos[1],plotPos[2])\n",
    "    plt.title(title)\n",
    "    plt.plot(time,data,color)\n",
    "    plt.ylabel(ylabel)\n",
    "    plt.xlabel(xlabel)"
   ]
  },
  {
   "cell_type": "code",
   "execution_count": 4,
   "metadata": {},
   "outputs": [],
   "source": [
    "def makeEchoes(sig,sr,sec,echoes):\n",
    "\n",
    "    #calculate the number of bytes which corresponds to the offset in milliseconds\n",
    "    offset=np.int(sr*sec)\n",
    "    \n",
    "    #add extra space at the end for the delays\n",
    "    ending = np.zeros((offset*(len(echoes))))\n",
    "    \n",
    "    delayedSig = np.concatenate((sig,ending))\n",
    "    \n",
    "    for i in range(len(echoes)):\n",
    "        \n",
    "        #create some silence\n",
    "        # python indexes starting with zero which is why you need to add one\n",
    "        beginning = np.zeros(offset*(i+1))\n",
    "        \n",
    "        #create delayed version of signal\n",
    "        delay = np.concatenate((beginning,sig))\n",
    "        delay = delay * echoes[i]\n",
    "\n",
    "        #pad the end of delay with zeros to make it the same length as delaysedSig\n",
    "        delay = np.concatenate((delay,np.zeros((delayedSig.size-delay.size))))\n",
    "        \n",
    "        # combine with output signal\n",
    "        delayedSig = delayedSig + delay\n",
    "    \n",
    "    return delayedSig"
   ]
  },
  {
   "cell_type": "code",
   "execution_count": 5,
   "metadata": {},
   "outputs": [],
   "source": [
    "def amplitudeModulation(sig,sr,modulatorFreq,modulatorAmp,modIndex):\n",
    "    \n",
    "    # create a time series from 0 to 1 the length of the inputted sig\n",
    "    timeSeries = np.linspace(0, 1, len(sig))\n",
    "    #create a cosine wave modulator with the time series using the inputted modulation frequency \n",
    "    #with the np.cos function and multiple it by the inputted modulation amplitude\n",
    "    modulator = modulatorAmp * np.cos (2 * np.pi * modulatorFreq * timeSeries)\n",
    "    #perform amplitude modulation by multiplying the inputted sig with the modulator \n",
    "    #(multiplied by 1 + modulation index)\n",
    "    amMod = (1 + modIndex * modulator) * sig\n",
    "    \n",
    "    #create a time series to represent time for plotting\n",
    "    time=np.arange(0,sig.shape[0])/sr\n",
    "    \n",
    "    #plot the modulator, the carrier (sig), and the result of the amplitude modulation (amMod)\n",
    "    subplots([3,1,1],'Modulator signal',modulator,time,'g','Amplitude','Time')\n",
    "    subplots([3,1,2],'Original (carrier) signal',sig,time,'r','Amplitude','Time')\n",
    "    subplots([3,1,3],'Amplitude Modulated Signal',amMod,time,'purple','Amplitude','Time')\n",
    "    \n",
    "    plt.subplots_adjust(hspace=1)\n",
    "    plt.rc('font', size=15)\n",
    "    fig = plt.gcf()\n",
    "    fig.set_size_inches(16, 9)\n",
    "    \n",
    "    return amMod"
   ]
  },
  {
   "cell_type": "code",
   "execution_count": null,
   "metadata": {},
   "outputs": [],
   "source": []
  }
 ],
 "metadata": {
  "kernelspec": {
   "display_name": "Python 3",
   "language": "python",
   "name": "python3"
  },
  "language_info": {
   "codemirror_mode": {
    "name": "ipython",
    "version": 3
   },
   "file_extension": ".py",
   "mimetype": "text/x-python",
   "name": "python",
   "nbconvert_exporter": "python",
   "pygments_lexer": "ipython3",
   "version": "3.8.5"
  }
 },
 "nbformat": 4,
 "nbformat_minor": 4
}
